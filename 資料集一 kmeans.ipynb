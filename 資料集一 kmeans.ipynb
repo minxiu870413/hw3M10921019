{
 "cells": [
  {
   "cell_type": "code",
   "execution_count": 3,
   "metadata": {},
   "outputs": [],
   "source": [
    "import scipy as sp\n",
    "import numpy as np\n",
    "import pandas as pd\n",
    "import os,sys\n",
    "from sklearn.datasets import load_files\n",
    "from sklearn.model_selection import train_test_split\n",
    "from sklearn.feature_extraction.text import TfidfVectorizer,TfidfTransformer\n",
    "import matplotlib.pyplot as plt\n",
    "import seaborn as sns\n",
    "datasets=r'D:\\雲科\\資料探勘\\資料探勘第三次作業\\mini_newsgroups'\n",
    "from nltk.corpus import stopwords\n",
    "import nltk\n",
    "from sklearn.cluster import KMeans\n",
    "from sklearn import cluster,metrics\n",
    "import time\n",
    "KKSTticks=time.process_time()\n",
    "from sklearn.decomposition import TruncatedSVD"
   ]
  },
  {
   "cell_type": "code",
   "execution_count": 4,
   "metadata": {},
   "outputs": [],
   "source": [
    "orderedList=os.listdir(datasets)\n",
    "texts=[]\n",
    "labels_index={}\n",
    "labels=[]"
   ]
  },
  {
   "cell_type": "code",
   "execution_count": 5,
   "metadata": {},
   "outputs": [],
   "source": [
    "for p in orderedList:\n",
    "    mypath=os.path.join(datasets,p)\n",
    "    if os.path.isdir(mypath):\n",
    "        label_id=len(labels_index)\n",
    "        labels_index[p]=label_id\n",
    "        for fname in sorted(os.listdir(mypath)):\n",
    "            if fname.isdigit():\n",
    "                fpath=os.path.join(mypath,fname)"
   ]
  },
  {
   "cell_type": "code",
   "execution_count": 6,
   "metadata": {},
   "outputs": [],
   "source": [
    "if sys.version_info<(3,):\n",
    "    f=open(fpath)\n",
    "else:\n",
    "    f=open(fpath,encoding='latin-1')\n",
    "    t=f.read()\n",
    "    u=t.find('\\n\\n')\n",
    "    if 0<u:\n",
    "            t=t[u:]\n",
    "    texts.append(t)\n",
    "    f.close()\n",
    "    labels.append(label_id)"
   ]
  },
  {
   "cell_type": "code",
   "execution_count": 7,
   "metadata": {},
   "outputs": [
    {
     "name": "stderr",
     "output_type": "stream",
     "text": [
      "[nltk_data] Downloading package stopwords to\n",
      "[nltk_data]     C:\\Users\\ASUS\\AppData\\Roaming\\nltk_data...\n",
      "[nltk_data]   Package stopwords is already up-to-date!\n"
     ]
    },
    {
     "data": {
      "text/html": [
       "<div>\n",
       "<style scoped>\n",
       "    .dataframe tbody tr th:only-of-type {\n",
       "        vertical-align: middle;\n",
       "    }\n",
       "\n",
       "    .dataframe tbody tr th {\n",
       "        vertical-align: top;\n",
       "    }\n",
       "\n",
       "    .dataframe thead th {\n",
       "        text-align: right;\n",
       "    }\n",
       "</style>\n",
       "<table border=\"1\" class=\"dataframe\">\n",
       "  <thead>\n",
       "    <tr style=\"text-align: right;\">\n",
       "      <th></th>\n",
       "      <th>texts</th>\n",
       "      <th>clean_doc</th>\n",
       "    </tr>\n",
       "  </thead>\n",
       "  <tbody>\n",
       "    <tr>\n",
       "      <th>0</th>\n",
       "      <td>\\n\\nIn article &lt;1993Apr27.073723.18577@csis.di...</td>\n",
       "      <td>article csis csiro csis csiro peter lamb write...</td>\n",
       "    </tr>\n",
       "  </tbody>\n",
       "</table>\n",
       "</div>"
      ],
      "text/plain": [
       "                                               texts  \\\n",
       "0  \\n\\nIn article <1993Apr27.073723.18577@csis.di...   \n",
       "\n",
       "                                           clean_doc  \n",
       "0  article csis csiro csis csiro peter lamb write...  "
      ]
     },
     "execution_count": 7,
     "metadata": {},
     "output_type": "execute_result"
    }
   ],
   "source": [
    "news_df=pd.DataFrame({'texts':texts})\n",
    "news_df['clean_doc']=news_df['texts'].str.replace(\"[^a-zA-Z#]\",\" \")\n",
    "news_df['clean_doc']=news_df['clean_doc'].apply(lambda x:' '.join([w for w in x.split() if len(w)>3]))\n",
    "# news_df\n",
    "news_df['clean_doc']=news_df['clean_doc'].apply(lambda x: x.lower())\n",
    "# news_df\n",
    "nltk.download('stopwords')\n",
    "# news_df\n",
    "stop_words=stopwords.words('english')\n",
    "# news_df\n",
    "tokenized_doc=news_df['clean_doc'].apply(lambda x:x.split())\n",
    "# news_df\n",
    "tokenized_doc=tokenized_doc.apply(lambda x:[item for item in x if item not in stop_words])\n",
    "news_df"
   ]
  },
  {
   "cell_type": "code",
   "execution_count": 8,
   "metadata": {},
   "outputs": [],
   "source": [
    "detokenized_doc=[]\n",
    "for p in range(len(news_df)):\n",
    "    t=' '.join(tokenized_doc[p])\n",
    "    detokenized_doc.append(t)\n",
    "    \n",
    "# news_df['clean_doc']=detokenized_doc\n",
    "\n",
    "aaalist = detokenized_doc[0].split(' ')\n",
    "\n",
    "vectorizer = TfidfVectorizer(stop_words='english',\n",
    "                            max_features=2000,\n",
    "                            max_df=0.5,\n",
    "                            smooth_idf=True)\n",
    "X=vectorizer.fit_transform(aaalist)"
   ]
  },
  {
   "cell_type": "code",
   "execution_count": 9,
   "metadata": {},
   "outputs": [
    {
     "data": {
      "text/plain": [
       "TruncatedSVD(n_components=20, n_iter=100, random_state=122)"
      ]
     },
     "execution_count": 9,
     "metadata": {},
     "output_type": "execute_result"
    }
   ],
   "source": [
    "svd_model=TruncatedSVD(n_components=20,algorithm='randomized',\n",
    "                      n_iter=100,random_state=122)\n",
    "svd_model.fit(X)"
   ]
  },
  {
   "cell_type": "code",
   "execution_count": 10,
   "metadata": {},
   "outputs": [],
   "source": [
    "X_topics=svd_model.fit_transform(X)"
   ]
  },
  {
   "cell_type": "code",
   "execution_count": 11,
   "metadata": {},
   "outputs": [
    {
     "name": "stdout",
     "output_type": "stream",
     "text": [
      "KMEAN所花費的時間為: 0.109375\n"
     ]
    }
   ],
   "source": [
    "KKSTticks=time.process_time()\n",
    "kmeans=KMeans(n_clusters=20)\n",
    "kmeans.fit(X_topics)\n",
    "cluster_labels=kmeans.labels_\n",
    "\n",
    "KKEDticks=time.process_time()\n",
    "\n",
    "print('KMEAN所花費的時間為:',KKEDticks-KKSTticks)"
   ]
  },
  {
   "cell_type": "code",
   "execution_count": 12,
   "metadata": {},
   "outputs": [],
   "source": [
    "def purity(X, cluster_labels):\n",
    "    cluster = np.array(X)\n",
    "    label = np. array(cluster_labels)\n",
    "    indedata1 = {}\n",
    "    for p in np.unique(label):\n",
    "        indedata1[p] = np.argwhere(label == p)\n",
    "    indedata2 = {}\n",
    "    for q in np.unique(cluster):\n",
    "        indedata2[q] = np.argwhere(cluster == q)\n",
    "\n",
    "    count_all = []\n",
    "    for i in indedata1.values():\n",
    "        count = []\n",
    "        for j in indedata2.values():\n",
    "            a = np.intersect1d(i, j).shape[0]\n",
    "            count.append(a)\n",
    "        count_all.append(count)\n",
    "\n",
    "    return sum(np.max(count_all, axis=0))/len(cluster)"
   ]
  },
  {
   "cell_type": "code",
   "execution_count": 13,
   "metadata": {},
   "outputs": [
    {
     "data": {
      "text/plain": [
       "20.094117647058823"
      ]
     },
     "execution_count": 13,
     "metadata": {},
     "output_type": "execute_result"
    }
   ],
   "source": [
    "purity(X_topics,cluster_labels)"
   ]
  },
  {
   "cell_type": "code",
   "execution_count": null,
   "metadata": {},
   "outputs": [],
   "source": []
  }
 ],
 "metadata": {
  "kernelspec": {
   "display_name": "Python 3",
   "language": "python",
   "name": "python3"
  },
  "language_info": {
   "codemirror_mode": {
    "name": "ipython",
    "version": 3
   },
   "file_extension": ".py",
   "mimetype": "text/x-python",
   "name": "python",
   "nbconvert_exporter": "python",
   "pygments_lexer": "ipython3",
   "version": "3.8.5"
  }
 },
 "nbformat": 4,
 "nbformat_minor": 4
}
