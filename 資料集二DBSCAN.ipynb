{
  "nbformat": 4,
  "nbformat_minor": 0,
  "metadata": {
    "colab": {
      "name": "資料集二DBSCAN.ipynb",
      "provenance": []
    },
    "kernelspec": {
      "name": "python3",
      "display_name": "Python 3"
    }
  },
  "cells": [
    {
      "cell_type": "code",
      "metadata": {
        "colab": {
          "base_uri": "https://localhost:8080/"
        },
        "id": "sB1wd4uS1eG9",
        "outputId": "a227a6fe-b80b-4f25-cd3c-e153569b2af4"
      },
      "source": [
        "# 下載 file_id 為 \"1tX9GJnZFG5YrZEE6Kub9QOIs1_IDoDdZ\" 的檔案，並將它命名為 winequality-red.csv\r\n",
        "!gdown --id '1tX9GJnZFG5YrZEE6Kub9QOIs1_IDoDdZ' --output optput1\r\n",
        "# 列出目前目錄下所有的檔案\r\n",
        "!ls"
      ],
      "execution_count": 1,
      "outputs": [
        {
          "output_type": "stream",
          "text": [
            "Downloading...\n",
            "From: https://drive.google.com/uc?id=1tX9GJnZFG5YrZEE6Kub9QOIs1_IDoDdZ\n",
            "To: /content/optput1\n",
            "\r  0% 0.00/382k [00:00<?, ?B/s]\r100% 382k/382k [00:00<00:00, 49.4MB/s]\n",
            "optput1  sample_data\n"
          ],
          "name": "stdout"
        }
      ]
    },
    {
      "cell_type": "code",
      "metadata": {
        "colab": {
          "base_uri": "https://localhost:8080/",
          "height": 195
        },
        "id": "T_U1evwf1gn9",
        "outputId": "3f526982-7829-459b-a91a-db5de41f41a7"
      },
      "source": [
        "\r\n",
        "import pandas as pd\r\n",
        "import matplotlib.pyplot as plt\r\n",
        "%matplotlib inline\r\n",
        "from sklearn import metrics\r\n",
        "import numpy as np\r\n",
        "datasets = pd.read_csv('optput1')\r\n",
        "datasets.head()\r\n"
      ],
      "execution_count": 2,
      "outputs": [
        {
          "output_type": "execute_result",
          "data": {
            "text/html": [
              "<div>\n",
              "<style scoped>\n",
              "    .dataframe tbody tr th:only-of-type {\n",
              "        vertical-align: middle;\n",
              "    }\n",
              "\n",
              "    .dataframe tbody tr th {\n",
              "        vertical-align: top;\n",
              "    }\n",
              "\n",
              "    .dataframe thead th {\n",
              "        text-align: right;\n",
              "    }\n",
              "</style>\n",
              "<table border=\"1\" class=\"dataframe\">\n",
              "  <thead>\n",
              "    <tr style=\"text-align: right;\">\n",
              "      <th></th>\n",
              "      <th>p</th>\n",
              "      <th>x</th>\n",
              "      <th>s</th>\n",
              "      <th>n</th>\n",
              "      <th>t</th>\n",
              "      <th>p.1</th>\n",
              "      <th>f</th>\n",
              "      <th>c</th>\n",
              "      <th>n.1</th>\n",
              "      <th>k</th>\n",
              "      <th>e</th>\n",
              "      <th>e.1</th>\n",
              "      <th>s.1</th>\n",
              "      <th>s.2</th>\n",
              "      <th>w</th>\n",
              "      <th>w.1</th>\n",
              "      <th>p.2</th>\n",
              "      <th>w.2</th>\n",
              "      <th>o</th>\n",
              "      <th>p.3</th>\n",
              "      <th>k.1</th>\n",
              "      <th>s.3</th>\n",
              "      <th>u</th>\n",
              "    </tr>\n",
              "  </thead>\n",
              "  <tbody>\n",
              "    <tr>\n",
              "      <th>0</th>\n",
              "      <td>e</td>\n",
              "      <td>x</td>\n",
              "      <td>s</td>\n",
              "      <td>y</td>\n",
              "      <td>t</td>\n",
              "      <td>a</td>\n",
              "      <td>f</td>\n",
              "      <td>c</td>\n",
              "      <td>b</td>\n",
              "      <td>k</td>\n",
              "      <td>e</td>\n",
              "      <td>c</td>\n",
              "      <td>s</td>\n",
              "      <td>s</td>\n",
              "      <td>w</td>\n",
              "      <td>w</td>\n",
              "      <td>p</td>\n",
              "      <td>w</td>\n",
              "      <td>o</td>\n",
              "      <td>p</td>\n",
              "      <td>n</td>\n",
              "      <td>n</td>\n",
              "      <td>g</td>\n",
              "    </tr>\n",
              "    <tr>\n",
              "      <th>1</th>\n",
              "      <td>e</td>\n",
              "      <td>b</td>\n",
              "      <td>s</td>\n",
              "      <td>w</td>\n",
              "      <td>t</td>\n",
              "      <td>l</td>\n",
              "      <td>f</td>\n",
              "      <td>c</td>\n",
              "      <td>b</td>\n",
              "      <td>n</td>\n",
              "      <td>e</td>\n",
              "      <td>c</td>\n",
              "      <td>s</td>\n",
              "      <td>s</td>\n",
              "      <td>w</td>\n",
              "      <td>w</td>\n",
              "      <td>p</td>\n",
              "      <td>w</td>\n",
              "      <td>o</td>\n",
              "      <td>p</td>\n",
              "      <td>n</td>\n",
              "      <td>n</td>\n",
              "      <td>m</td>\n",
              "    </tr>\n",
              "    <tr>\n",
              "      <th>2</th>\n",
              "      <td>p</td>\n",
              "      <td>x</td>\n",
              "      <td>y</td>\n",
              "      <td>w</td>\n",
              "      <td>t</td>\n",
              "      <td>p</td>\n",
              "      <td>f</td>\n",
              "      <td>c</td>\n",
              "      <td>n</td>\n",
              "      <td>n</td>\n",
              "      <td>e</td>\n",
              "      <td>e</td>\n",
              "      <td>s</td>\n",
              "      <td>s</td>\n",
              "      <td>w</td>\n",
              "      <td>w</td>\n",
              "      <td>p</td>\n",
              "      <td>w</td>\n",
              "      <td>o</td>\n",
              "      <td>p</td>\n",
              "      <td>k</td>\n",
              "      <td>s</td>\n",
              "      <td>u</td>\n",
              "    </tr>\n",
              "    <tr>\n",
              "      <th>3</th>\n",
              "      <td>e</td>\n",
              "      <td>x</td>\n",
              "      <td>s</td>\n",
              "      <td>g</td>\n",
              "      <td>f</td>\n",
              "      <td>n</td>\n",
              "      <td>f</td>\n",
              "      <td>w</td>\n",
              "      <td>b</td>\n",
              "      <td>k</td>\n",
              "      <td>t</td>\n",
              "      <td>e</td>\n",
              "      <td>s</td>\n",
              "      <td>s</td>\n",
              "      <td>w</td>\n",
              "      <td>w</td>\n",
              "      <td>p</td>\n",
              "      <td>w</td>\n",
              "      <td>o</td>\n",
              "      <td>e</td>\n",
              "      <td>n</td>\n",
              "      <td>a</td>\n",
              "      <td>g</td>\n",
              "    </tr>\n",
              "    <tr>\n",
              "      <th>4</th>\n",
              "      <td>e</td>\n",
              "      <td>x</td>\n",
              "      <td>y</td>\n",
              "      <td>y</td>\n",
              "      <td>t</td>\n",
              "      <td>a</td>\n",
              "      <td>f</td>\n",
              "      <td>c</td>\n",
              "      <td>b</td>\n",
              "      <td>n</td>\n",
              "      <td>e</td>\n",
              "      <td>c</td>\n",
              "      <td>s</td>\n",
              "      <td>s</td>\n",
              "      <td>w</td>\n",
              "      <td>w</td>\n",
              "      <td>p</td>\n",
              "      <td>w</td>\n",
              "      <td>o</td>\n",
              "      <td>p</td>\n",
              "      <td>k</td>\n",
              "      <td>n</td>\n",
              "      <td>g</td>\n",
              "    </tr>\n",
              "  </tbody>\n",
              "</table>\n",
              "</div>"
            ],
            "text/plain": [
              "   p  x  s  n  t p.1  f  c n.1  k  e  ... s.1 s.2  w w.1 p.2 w.2  o p.3 k.1 s.3  u\n",
              "0  e  x  s  y  t   a  f  c   b  k  e  ...   s   s  w   w   p   w  o   p   n   n  g\n",
              "1  e  b  s  w  t   l  f  c   b  n  e  ...   s   s  w   w   p   w  o   p   n   n  m\n",
              "2  p  x  y  w  t   p  f  c   n  n  e  ...   s   s  w   w   p   w  o   p   k   s  u\n",
              "3  e  x  s  g  f   n  f  w   b  k  t  ...   s   s  w   w   p   w  o   e   n   a  g\n",
              "4  e  x  y  y  t   a  f  c   b  n  e  ...   s   s  w   w   p   w  o   p   k   n  g\n",
              "\n",
              "[5 rows x 23 columns]"
            ]
          },
          "metadata": {
            "tags": []
          },
          "execution_count": 2
        }
      ]
    },
    {
      "cell_type": "code",
      "metadata": {
        "id": "VJoCjGAm1ifd"
      },
      "source": [
        "(datasets.astype(str) == ' ?').any(1)\r\n",
        "datasets = datasets[~(datasets.astype(str) == ' ?').any(1)]\r\n",
        "lack = datasets.isnull()"
      ],
      "execution_count": 3,
      "outputs": []
    },
    {
      "cell_type": "code",
      "metadata": {
        "id": "OkrC5pCz1kiF"
      },
      "source": [
        "datasets.columns = ['edible-or-poisonous','cap-shape','cap-surface','cap-color','bruises','odor',\r\n",
        "                   'gill-attachment','gill-spacing','gill-size','gill-color',\r\n",
        "                   'stalk-shape', 'stalk-root', 'stalk-surface-above-ring',\r\n",
        "                   'stalk-surface-below-ring', 'stalk-color-above-ring','stalk-color-below-ring',\r\n",
        "                   'veil-type','veil-color','ring-number','ring-type','spore-print-color',\r\n",
        "                   'population','habitat']"
      ],
      "execution_count": 4,
      "outputs": []
    },
    {
      "cell_type": "code",
      "metadata": {
        "id": "YLHe59Cj4Xtk"
      },
      "source": [
        "from sklearn.preprocessing import LabelEncoder\r\n",
        "labelencoder=LabelEncoder()\r\n",
        "for col in datasets.columns:\r\n",
        "    datasets[col]=labelencoder.fit_transform(datasets[col])"
      ],
      "execution_count": 5,
      "outputs": []
    },
    {
      "cell_type": "code",
      "metadata": {
        "colab": {
          "base_uri": "https://localhost:8080/"
        },
        "id": "8t47uYZE2aBt",
        "outputId": "c19470d9-b6de-4346-b97e-6760796e79eb"
      },
      "source": [
        "print(__doc__)\r\n",
        "\r\n",
        "import numpy as np\r\n",
        "\r\n",
        "from sklearn.cluster import DBSCAN\r\n",
        "from sklearn import metrics\r\n",
        "from sklearn.datasets import make_blobs\r\n",
        "from sklearn.preprocessing import StandardScaler"
      ],
      "execution_count": 6,
      "outputs": [
        {
          "output_type": "stream",
          "text": [
            "Automatically created module for IPython interactive environment\n"
          ],
          "name": "stdout"
        }
      ]
    },
    {
      "cell_type": "code",
      "metadata": {
        "id": "se9TAyB62dNN"
      },
      "source": [
        "centers = [[1, 1], [-1, -1], [1, -1]]\r\n",
        "X, labels_true = make_blobs(n_samples=750, centers=centers, cluster_std=0.4,\r\n",
        "                            random_state=0)\r\n",
        "\r\n",
        "X = StandardScaler().fit_transform(X)"
      ],
      "execution_count": 7,
      "outputs": []
    },
    {
      "cell_type": "code",
      "metadata": {
        "id": "ZOb6KLPl1Vr8"
      },
      "source": [
        "db = DBSCAN(eps=0.3, min_samples=15).fit(X)\r\n",
        "core_samples_mask = np.zeros_like(db.labels_, dtype=bool)\r\n",
        "core_samples_mask[db.core_sample_indices_] = True\r\n",
        "labels = db.labels_\r\n",
        "\r\n",
        "# Number of clusters in labels, ignoring noise if present.\r\n",
        "n_clusters_ = len(set(labels)) - (1 if -1 in labels else 0)\r\n",
        "n_noise_ = list(labels).count(-1)"
      ],
      "execution_count": 8,
      "outputs": []
    },
    {
      "cell_type": "code",
      "metadata": {
        "colab": {
          "base_uri": "https://localhost:8080/",
          "height": 281
        },
        "id": "a6mq-3bR2qgt",
        "outputId": "658311fc-51d6-46bb-9753-db9139ce4673"
      },
      "source": [
        "import matplotlib.pyplot as plt\r\n",
        "\r\n",
        "# Black removed and is used for noise instead.\r\n",
        "unique_labels = set(labels)\r\n",
        "colors = [plt.cm.Spectral(each)\r\n",
        "          for each in np.linspace(0, 1, len(unique_labels))]\r\n",
        "for k, col in zip(unique_labels, colors):\r\n",
        "    if k == -1:\r\n",
        "        # Black used for noise.\r\n",
        "        col = [0, 0, 0, 1]\r\n",
        "\r\n",
        "    class_member_mask = (labels == k)\r\n",
        "\r\n",
        "    xy = X[class_member_mask & core_samples_mask]\r\n",
        "    plt.plot(xy[:, 0], xy[:, 1], 'o', markerfacecolor=tuple(col),\r\n",
        "             markeredgecolor='k', markersize=14)\r\n",
        "\r\n",
        "    xy = X[class_member_mask & ~core_samples_mask]\r\n",
        "    plt.plot(xy[:, 0], xy[:, 1], 'o', markerfacecolor=tuple(col),\r\n",
        "             markeredgecolor='k', markersize=6)\r\n",
        "\r\n",
        "plt.title('Estimated number of clusters: %d' % n_clusters_)\r\n",
        "plt.show()"
      ],
      "execution_count": 9,
      "outputs": [
        {
          "output_type": "display_data",
          "data": {
            "image/png": "[encoded data removed]",
            "text/plain": [
              "<Figure size 432x288 with 1 Axes>"
            ]
          },
          "metadata": {
            "tags": [],
            "needs_background": "light"
          }
        }
      ]
    },
    {
      "cell_type": "code",
      "metadata": {
        "id": "b5i5hqgL35Ke"
      },
      "source": [
        "def purity(X, cluster_labels):\r\n",
        "    cluster = np.array(X)\r\n",
        "    label = np. array(cluster_labels)\r\n",
        "    indedata1 = {}\r\n",
        "    for p in np.unique(label):\r\n",
        "        indedata1[p] = np.argwhere(label == p)\r\n",
        "    indedata2 = {}\r\n",
        "    for q in np.unique(cluster):\r\n",
        "        indedata2[q] = np.argwhere(cluster == q)\r\n",
        "\r\n",
        "    count_all = []\r\n",
        "    for i in indedata1.values():\r\n",
        "        count = []\r\n",
        "        for j in indedata2.values():\r\n",
        "            a = np.intersect1d(i, j).shape[0]\r\n",
        "            count.append(a)\r\n",
        "        count_all.append(count)\r\n",
        "\r\n",
        "    return sum(np.max(count_all, axis=0))/len(cluster)\r\n"
      ],
      "execution_count": 10,
      "outputs": []
    },
    {
      "cell_type": "code",
      "metadata": {
        "colab": {
          "base_uri": "https://localhost:8080/"
        },
        "id": "DhCES3HC38c9",
        "outputId": "74acb7fc-0408-4d19-8588-5172e9ac49ad"
      },
      "source": [
        "db = db.fit(datasets)\r\n",
        "purity(labels_true,db.labels_)"
      ],
      "execution_count": 11,
      "outputs": [
        {
          "output_type": "execute_result",
          "data": {
            "text/plain": [
              "1.0"
            ]
          },
          "metadata": {
            "tags": []
          },
          "execution_count": 11
        }
      ]
    },
    {
      "cell_type": "code",
      "metadata": {
        "colab": {
          "base_uri": "https://localhost:8080/"
        },
        "id": "bRjLWednBUo3",
        "outputId": "086c435a-96fe-4b8e-dc57-ae4009c79d0f"
      },
      "source": [
        "import time\r\n",
        "\r\n",
        "KKEDticks = time.process_time()\r\n",
        "print('Kmeans所花費的時間為',KKEDticks-KKSTticks)"
      ],
      "execution_count": 15,
      "outputs": [
        {
          "output_type": "stream",
          "text": [
            "Kmeans所花費的時間為 0.011333685999999954\n"
          ],
          "name": "stdout"
        }
      ]
    }
  ]
}