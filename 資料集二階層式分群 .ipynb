{
 "cells": [
  {
   "cell_type": "code",
   "execution_count": 37,
   "metadata": {},
   "outputs": [],
   "source": [
    "import numpy as np\n",
    "import pandas as pd\n",
    "from sklearn import metrics\n",
    "from matplotlib import pyplot as plt\n",
    "%matplotlib inline\n",
    "from sklearn import datasets\n",
    "datasets = pd.read_csv(r'D:\\10901資料探勘\\作業三\\mushroom\\agaricus-lepiota.csv')"
   ]
  },
  {
   "cell_type": "code",
   "execution_count": 38,
   "metadata": {},
   "outputs": [],
   "source": [
    "(datasets.astype(str) == ' ?').any(1)\n",
    "datasets = datasets[~(datasets.astype(str) == ' ?').any(1)]\n",
    "lack = datasets.isnull()"
   ]
  },
  {
   "cell_type": "code",
   "execution_count": 39,
   "metadata": {},
   "outputs": [],
   "source": [
    "datasets.columns = ['edible-or-poisonous','cap-shape','cap-surface','cap-color','bruises','odor',\n",
    "                   'gill-attachment','gill-spacing','gill-size','gill-color',\n",
    "                   'stalk-shape', 'stalk-root', 'stalk-surface-above-ring',\n",
    "                   'stalk-surface-below-ring', 'stalk-color-above-ring','stalk-color-below-ring',\n",
    "                   'veil-type','veil-color','ring-number','ring-type','spore-print-color',\n",
    "                   'population','habitat']"
   ]
  },
  {
   "cell_type": "code",
   "execution_count": 40,
   "metadata": {},
   "outputs": [],
   "source": [
    "from sklearn.preprocessing import LabelEncoder\n",
    "labelencoder=LabelEncoder()\n",
    "for col in datasets.columns:\n",
    "    datasets[col]=labelencoder.fit_transform(datasets[col])"
   ]
  },
  {
   "cell_type": "code",
   "execution_count": 41,
   "metadata": {},
   "outputs": [],
   "source": [
    "from scipy.cluster.hierarchy import dendrogram,linkage\n",
    "from sklearn.cluster import AgglomerativeClustering\n",
    "import time\n",
    "from scipy.cluster import hierarchy"
   ]
  },
  {
   "cell_type": "code",
   "execution_count": 42,
   "metadata": {},
   "outputs": [],
   "source": [
    "HHSTticks = time.process_time()\n",
    "ml = AgglomerativeClustering(n_clusters=20,affinity='euclidean',linkage='ward')"
   ]
  },
  {
   "cell_type": "code",
   "execution_count": 43,
   "metadata": {},
   "outputs": [],
   "source": [
    "ml = ml.fit(datasets)\n",
    "labels = ml.fit_predict(datasets)"
   ]
  },
  {
   "cell_type": "code",
   "execution_count": 44,
   "metadata": {},
   "outputs": [],
   "source": [
    "cluster_labelss = ml.labels_"
   ]
  },
  {
   "cell_type": "code",
   "execution_count": 45,
   "metadata": {},
   "outputs": [
    {
     "name": "stdout",
     "output_type": "stream",
     "text": [
      "階層式績效為 0.24928267082084843\n"
     ]
    }
   ],
   "source": [
    "silhouette_avgs = metrics.silhouette_score(datasets,cluster_labelss)\n",
    "print('階層式績效為',silhouette_avgs)"
   ]
  },
  {
   "cell_type": "code",
   "execution_count": 46,
   "metadata": {},
   "outputs": [
    {
     "name": "stdout",
     "output_type": "stream",
     "text": [
      "階層式所花費的時間為 6.671875\n"
     ]
    }
   ],
   "source": [
    "HHEDticks = time.process_time()\n",
    "print('階層式所花費的時間為',HHEDticks-HHSTticks)"
   ]
  },
  {
   "cell_type": "code",
   "execution_count": 47,
   "metadata": {
    "scrolled": true
   },
   "outputs": [
    {
     "data": {
      "image/png": "[encoded data removed]",
      "text/plain": [
       "<Figure size 432x288 with 1 Axes>"
      ]
     },
     "metadata": {
      "needs_background": "light"
     },
     "output_type": "display_data"
    }
   ],
   "source": [
    "import scipy.cluster.hierarchy as sch\n",
    "Z = sch.linkage(datasets,method = 'ward')\n",
    "dendrogram = sch.dendrogram(Z)\n",
    "\n",
    "plt.title('Hierarchical Clustering')\n",
    "plt.xlabel('samples')\n",
    "plt.ylabel('distance')\n",
    "plt.show()"
   ]
  },
  {
   "cell_type": "code",
   "execution_count": 48,
   "metadata": {},
   "outputs": [],
   "source": [
    "def purity(X, cluster_labels):\n",
    "    cluster = np.array(X)\n",
    "    label = np. array(cluster_labels)\n",
    "    indedata1 = {}\n",
    "    for p in np.unique(label):\n",
    "        indedata1[p] = np.argwhere(label == p)\n",
    "    indedata2 = {}\n",
    "    for q in np.unique(cluster):\n",
    "        indedata2[q] = np.argwhere(cluster == q)\n",
    "\n",
    "    count_all = []\n",
    "    for i in indedata1.values():\n",
    "        count = []\n",
    "        for j in indedata2.values():\n",
    "            a = np.intersect1d(i, j).shape[0]\n",
    "            count.append(a)\n",
    "        count_all.append(count)\n",
    "\n",
    "    return sum(np.max(count_all, axis=0))/len(cluster)"
   ]
  },
  {
   "cell_type": "code",
   "execution_count": 49,
   "metadata": {},
   "outputs": [
    {
     "data": {
      "text/plain": [
       "1.0"
      ]
     },
     "execution_count": 49,
     "metadata": {},
     "output_type": "execute_result"
    }
   ],
   "source": [
    "purity(cluster_labelss,labels)"
   ]
  },
  {
   "cell_type": "code",
   "execution_count": null,
   "metadata": {},
   "outputs": [],
   "source": []
  }
 ],
 "metadata": {
  "kernelspec": {
   "display_name": "Python 3",
   "language": "python",
   "name": "python3"
  },
  "language_info": {
   "codemirror_mode": {
    "name": "ipython",
    "version": 3
   },
   "file_extension": ".py",
   "mimetype": "text/x-python",
   "name": "python",
   "nbconvert_exporter": "python",
   "pygments_lexer": "ipython3",
   "version": "3.8.3"
  }
 },
 "nbformat": 4,
 "nbformat_minor": 4
}
